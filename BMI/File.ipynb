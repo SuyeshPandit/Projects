{
 "cells": [
  {
   "cell_type": "code",
   "execution_count": 1,
   "id": "018cf6a7-756b-4837-829a-3ef36f025d7c",
   "metadata": {
    "tags": []
   },
   "outputs": [],
   "source": [
    "import pandas as pd\n",
    "from sklearn.model_selection import train_test_split\n",
    "from sklearn.ensemble import RandomForestClassifier\n",
    "from sklearn.metrics import classification_report\n"
   ]
  },
  {
   "cell_type": "code",
   "execution_count": 2,
   "id": "c6fae577-d045-4d6a-b8e9-9808fb1ed965",
   "metadata": {
    "tags": []
   },
   "outputs": [],
   "source": [
    "# Load and preprocess your dataset\n",
    "data = pd.read_csv('bmi.csv')"
   ]
  },
  {
   "cell_type": "code",
   "execution_count": 3,
   "id": "89f087b3-a04c-400e-8c15-2d05ea74bf95",
   "metadata": {
    "tags": []
   },
   "outputs": [
    {
     "name": "stdout",
     "output_type": "stream",
     "text": [
      "     Gender  Height  Weight  Index\n",
      "0      Male     174      96      4\n",
      "1      Male     189      87      2\n",
      "2    Female     185     110      4\n",
      "3    Female     195     104      3\n",
      "4      Male     149      61      3\n",
      "..      ...     ...     ...    ...\n",
      "495  Female     150     153      5\n",
      "496  Female     184     121      4\n",
      "497  Female     141     136      5\n",
      "498    Male     150      95      5\n",
      "499    Male     173     131      5\n",
      "\n",
      "[500 rows x 4 columns]\n"
     ]
    }
   ],
   "source": [
    "print(data)"
   ]
  },
  {
   "cell_type": "code",
   "execution_count": 8,
   "id": "16796131-0c52-4b3b-a071-b832746675b0",
   "metadata": {
    "tags": []
   },
   "outputs": [],
   "source": [
    "# Split the data into features (X) and target (y)\n",
    "X = data.drop(['Height', 'Gender'], axis=1)\n",
    "y = data['Weight']"
   ]
  },
  {
   "cell_type": "code",
   "execution_count": 9,
   "id": "9a2927ea-ae50-4ec4-a19b-078831f1ebfd",
   "metadata": {
    "tags": []
   },
   "outputs": [],
   "source": [
    "# Split data into training and testing sets\n",
    "X_train, X_test, y_train, y_test = train_test_split(X, y, test_size=0.2, random_state=42)"
   ]
  },
  {
   "cell_type": "code",
   "execution_count": 10,
   "id": "a32044a1-53c3-498c-8fc0-2c1f0546b894",
   "metadata": {
    "tags": []
   },
   "outputs": [
    {
     "data": {
      "text/html": [
       "<style>#sk-container-id-1 {color: black;background-color: white;}#sk-container-id-1 pre{padding: 0;}#sk-container-id-1 div.sk-toggleable {background-color: white;}#sk-container-id-1 label.sk-toggleable__label {cursor: pointer;display: block;width: 100%;margin-bottom: 0;padding: 0.3em;box-sizing: border-box;text-align: center;}#sk-container-id-1 label.sk-toggleable__label-arrow:before {content: \"▸\";float: left;margin-right: 0.25em;color: #696969;}#sk-container-id-1 label.sk-toggleable__label-arrow:hover:before {color: black;}#sk-container-id-1 div.sk-estimator:hover label.sk-toggleable__label-arrow:before {color: black;}#sk-container-id-1 div.sk-toggleable__content {max-height: 0;max-width: 0;overflow: hidden;text-align: left;background-color: #f0f8ff;}#sk-container-id-1 div.sk-toggleable__content pre {margin: 0.2em;color: black;border-radius: 0.25em;background-color: #f0f8ff;}#sk-container-id-1 input.sk-toggleable__control:checked~div.sk-toggleable__content {max-height: 200px;max-width: 100%;overflow: auto;}#sk-container-id-1 input.sk-toggleable__control:checked~label.sk-toggleable__label-arrow:before {content: \"▾\";}#sk-container-id-1 div.sk-estimator input.sk-toggleable__control:checked~label.sk-toggleable__label {background-color: #d4ebff;}#sk-container-id-1 div.sk-label input.sk-toggleable__control:checked~label.sk-toggleable__label {background-color: #d4ebff;}#sk-container-id-1 input.sk-hidden--visually {border: 0;clip: rect(1px 1px 1px 1px);clip: rect(1px, 1px, 1px, 1px);height: 1px;margin: -1px;overflow: hidden;padding: 0;position: absolute;width: 1px;}#sk-container-id-1 div.sk-estimator {font-family: monospace;background-color: #f0f8ff;border: 1px dotted black;border-radius: 0.25em;box-sizing: border-box;margin-bottom: 0.5em;}#sk-container-id-1 div.sk-estimator:hover {background-color: #d4ebff;}#sk-container-id-1 div.sk-parallel-item::after {content: \"\";width: 100%;border-bottom: 1px solid gray;flex-grow: 1;}#sk-container-id-1 div.sk-label:hover label.sk-toggleable__label {background-color: #d4ebff;}#sk-container-id-1 div.sk-serial::before {content: \"\";position: absolute;border-left: 1px solid gray;box-sizing: border-box;top: 0;bottom: 0;left: 50%;z-index: 0;}#sk-container-id-1 div.sk-serial {display: flex;flex-direction: column;align-items: center;background-color: white;padding-right: 0.2em;padding-left: 0.2em;position: relative;}#sk-container-id-1 div.sk-item {position: relative;z-index: 1;}#sk-container-id-1 div.sk-parallel {display: flex;align-items: stretch;justify-content: center;background-color: white;position: relative;}#sk-container-id-1 div.sk-item::before, #sk-container-id-1 div.sk-parallel-item::before {content: \"\";position: absolute;border-left: 1px solid gray;box-sizing: border-box;top: 0;bottom: 0;left: 50%;z-index: -1;}#sk-container-id-1 div.sk-parallel-item {display: flex;flex-direction: column;z-index: 1;position: relative;background-color: white;}#sk-container-id-1 div.sk-parallel-item:first-child::after {align-self: flex-end;width: 50%;}#sk-container-id-1 div.sk-parallel-item:last-child::after {align-self: flex-start;width: 50%;}#sk-container-id-1 div.sk-parallel-item:only-child::after {width: 0;}#sk-container-id-1 div.sk-dashed-wrapped {border: 1px dashed gray;margin: 0 0.4em 0.5em 0.4em;box-sizing: border-box;padding-bottom: 0.4em;background-color: white;}#sk-container-id-1 div.sk-label label {font-family: monospace;font-weight: bold;display: inline-block;line-height: 1.2em;}#sk-container-id-1 div.sk-label-container {text-align: center;}#sk-container-id-1 div.sk-container {/* jupyter's `normalize.less` sets `[hidden] { display: none; }` but bootstrap.min.css set `[hidden] { display: none !important; }` so we also need the `!important` here to be able to override the default hidden behavior on the sphinx rendered scikit-learn.org. See: https://github.com/scikit-learn/scikit-learn/issues/21755 */display: inline-block !important;position: relative;}#sk-container-id-1 div.sk-text-repr-fallback {display: none;}</style><div id=\"sk-container-id-1\" class=\"sk-top-container\"><div class=\"sk-text-repr-fallback\"><pre>RandomForestClassifier()</pre><b>In a Jupyter environment, please rerun this cell to show the HTML representation or trust the notebook. <br />On GitHub, the HTML representation is unable to render, please try loading this page with nbviewer.org.</b></div><div class=\"sk-container\" hidden><div class=\"sk-item\"><div class=\"sk-estimator sk-toggleable\"><input class=\"sk-toggleable__control sk-hidden--visually\" id=\"sk-estimator-id-1\" type=\"checkbox\" checked><label for=\"sk-estimator-id-1\" class=\"sk-toggleable__label sk-toggleable__label-arrow\">RandomForestClassifier</label><div class=\"sk-toggleable__content\"><pre>RandomForestClassifier()</pre></div></div></div></div></div>"
      ],
      "text/plain": [
       "RandomForestClassifier()"
      ]
     },
     "execution_count": 10,
     "metadata": {},
     "output_type": "execute_result"
    }
   ],
   "source": [
    "# Initialize and train the Random Forest Classifier\n",
    "model = RandomForestClassifier()\n",
    "model.fit(X_train, y_train)"
   ]
  },
  {
   "cell_type": "code",
   "execution_count": 11,
   "id": "a04e19b0-8005-4d69-a8dd-8253f011f715",
   "metadata": {
    "tags": []
   },
   "outputs": [],
   "source": [
    "# Make predictions on the testing data\n",
    "y_pred = model.predict(X_test)"
   ]
  },
  {
   "cell_type": "code",
   "execution_count": 13,
   "id": "08373f08-a351-4c1d-89af-436ebfd246cc",
   "metadata": {
    "tags": []
   },
   "outputs": [
    {
     "name": "stdout",
     "output_type": "stream",
     "text": [
      "              precision    recall  f1-score   support\n",
      "\n",
      "          50       0.00      1.00      0.00         0\n",
      "          51       1.00      0.67      0.80         3\n",
      "          56       1.00      1.00      1.00         2\n",
      "          58       1.00      1.00      1.00         1\n",
      "          59       1.00      1.00      1.00         1\n",
      "          61       1.00      1.00      1.00         1\n",
      "          62       1.00      1.00      1.00         2\n",
      "          64       0.33      1.00      0.50         1\n",
      "          65       1.00      0.50      0.67         4\n",
      "          66       1.00      0.50      0.67         2\n",
      "          67       0.50      1.00      0.67         1\n",
      "          68       1.00      1.00      1.00         1\n",
      "          70       1.00      1.00      1.00         2\n",
      "          74       1.00      0.50      0.67         2\n",
      "          75       0.50      0.50      0.50         2\n",
      "          76       0.00      1.00      0.00         0\n",
      "          77       1.00      0.00      0.00         1\n",
      "          79       0.00      1.00      0.00         0\n",
      "          80       1.00      0.75      0.86         4\n",
      "          81       1.00      1.00      1.00         1\n",
      "          82       1.00      1.00      1.00         1\n",
      "          83       1.00      1.00      1.00         1\n",
      "          85       1.00      1.00      1.00         1\n",
      "          89       1.00      0.00      0.00         1\n",
      "          90       0.67      1.00      0.80         2\n",
      "          94       1.00      1.00      1.00         1\n",
      "          95       1.00      1.00      1.00         1\n",
      "          96       0.25      1.00      0.40         1\n",
      "          97       0.00      0.00      0.00         2\n",
      "          98       1.00      0.33      0.50         3\n",
      "          99       1.00      1.00      1.00         1\n",
      "         102       0.00      1.00      0.00         0\n",
      "         103       1.00      0.25      0.40         4\n",
      "         104       0.50      1.00      0.67         1\n",
      "         105       1.00      0.50      0.67         2\n",
      "         107       1.00      1.00      1.00         1\n",
      "         110       1.00      1.00      1.00         1\n",
      "         111       1.00      1.00      1.00         3\n",
      "         116       1.00      1.00      1.00         1\n",
      "         118       1.00      1.00      1.00         1\n",
      "         121       1.00      1.00      1.00         1\n",
      "         122       1.00      1.00      1.00         2\n",
      "         123       0.67      1.00      0.80         2\n",
      "         124       1.00      0.50      0.67         2\n",
      "         126       1.00      1.00      1.00         1\n",
      "         127       1.00      1.00      1.00         1\n",
      "         130       0.00      1.00      0.00         0\n",
      "         131       1.00      0.33      0.50         3\n",
      "         132       1.00      1.00      1.00         1\n",
      "         133       1.00      1.00      1.00         1\n",
      "         135       1.00      1.00      1.00         1\n",
      "         136       1.00      1.00      1.00         2\n",
      "         137       1.00      1.00      1.00         2\n",
      "         139       0.00      1.00      0.00         0\n",
      "         140       1.00      0.50      0.67         2\n",
      "         141       1.00      1.00      1.00         1\n",
      "         142       1.00      1.00      1.00         1\n",
      "         145       1.00      1.00      1.00         1\n",
      "         146       1.00      1.00      1.00         1\n",
      "         147       0.50      1.00      0.67         1\n",
      "         148       1.00      0.00      0.00         1\n",
      "         149       1.00      1.00      1.00         2\n",
      "         151       1.00      1.00      1.00         1\n",
      "         153       1.00      1.00      1.00         2\n",
      "         154       1.00      0.75      0.86         4\n",
      "         155       1.00      1.00      1.00         1\n",
      "         156       0.00      1.00      0.00         0\n",
      "         157       1.00      1.00      1.00         1\n",
      "         158       1.00      1.00      1.00         1\n",
      "         160       1.00      1.00      1.00         1\n",
      "\n",
      "    accuracy                           0.77       100\n",
      "   macro avg       0.83      0.85      0.74       100\n",
      "weighted avg       0.93      0.77      0.79       100\n",
      "\n"
     ]
    }
   ],
   "source": [
    "# Evaluate the model\n",
    "print(classification_report(y_test, y_pred, zero_division=1))\n"
   ]
  },
  {
   "cell_type": "code",
   "execution_count": null,
   "id": "32083c14-65f8-4130-81e4-5b7f15dea0d2",
   "metadata": {},
   "outputs": [],
   "source": []
  }
 ],
 "metadata": {
  "kernelspec": {
   "display_name": "Python 3 (ipykernel)",
   "language": "python",
   "name": "python3"
  },
  "language_info": {
   "codemirror_mode": {
    "name": "ipython",
    "version": 3
   },
   "file_extension": ".py",
   "mimetype": "text/x-python",
   "name": "python",
   "nbconvert_exporter": "python",
   "pygments_lexer": "ipython3",
   "version": "3.11.3"
  }
 },
 "nbformat": 4,
 "nbformat_minor": 5
}
