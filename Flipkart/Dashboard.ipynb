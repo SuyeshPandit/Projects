{
 "cells": [
  {
   "cell_type": "code",
   "execution_count": 6,
   "id": "4201cfcd-9206-4d65-b22d-5757b7c4709c",
   "metadata": {
    "tags": []
   },
   "outputs": [
    {
     "data": {
      "text/html": [
       "\n",
       "        <iframe\n",
       "            width=\"100%\"\n",
       "            height=\"650\"\n",
       "            src=\"http://127.0.0.1:8050/\"\n",
       "            frameborder=\"0\"\n",
       "            allowfullscreen\n",
       "            \n",
       "        ></iframe>\n",
       "        "
      ],
      "text/plain": [
       "<IPython.lib.display.IFrame at 0x13bd1d850>"
      ]
     },
     "metadata": {},
     "output_type": "display_data"
    }
   ],
   "source": [
    "import dash\n",
    "from dash import dcc, html\n",
    "import plotly.express as px\n",
    "import pandas as pd\n",
    "import ast\n",
    "\n",
    "# Step 1: Data Exploration and Cleaning\n",
    "data = pd.read_csv('flipkart_com-ecommerce_sample.csv')\n",
    "\n",
    "# Convert the product_category_tree to a list of categories using ast.literal_eval\n",
    "data['product_categories'] = data['product_category_tree'].apply(lambda x: ast.literal_eval(x))\n",
    "\n",
    "# Get the count of categories in each row\n",
    "data['category_count'] = data['product_categories'].apply(len)\n",
    "\n",
    "# Drop rows with missing values in 'product_rating' and 'product_price' columns\n",
    "data.dropna(subset=['product_rating', 'product_price'], inplace=True)\n",
    "\n",
    "# Step 2: Create the Dashboard Layout\n",
    "app = dash.Dash(__name__)\n",
    "\n",
    "app.layout = html.Div([\n",
    "    html.H1(\"Flipkart E-commerce Sample Dataset Dashboard\", style={'text-align': 'center'}),\n",
    "\n",
    "    # Visualization 1: Product Categories Count\n",
    "    dcc.Graph(\n",
    "        id='category-count-bar',\n",
    "        figure={\n",
    "            'data': [\n",
    "                {'x': data['category_count'].value_counts().index, 'y': data['category_count'].value_counts().values,\n",
    "                 'type': 'bar'}\n",
    "            ],\n",
    "            'layout': {\n",
    "                'title': 'Number of Product Categories',\n",
    "                'xaxis': {'title': 'Number of Categories'},\n",
    "                'yaxis': {'title': 'Count'}\n",
    "            }\n",
    "        }\n",
    "    ),\n",
    "\n",
    "    # Visualization 2: Product Ratings Distribution\n",
    "    dcc.Graph(\n",
    "        id='product-rating-histogram',\n",
    "        figure={\n",
    "            'data': [\n",
    "                {'x': data['product_rating'], 'type': 'histogram'}\n",
    "            ],\n",
    "            'layout': {\n",
    "                'title': 'Distribution of Product Ratings',\n",
    "                'xaxis': {'title': 'Product Rating'},\n",
    "                'yaxis': {'title': 'Count'}\n",
    "            }\n",
    "        }\n",
    "    ),\n",
    "\n",
    "    # Visualization 3: Brand-wise Product Count\n",
    "    dcc.Graph(\n",
    "        id='top-brands-bar',\n",
    "        figure={\n",
    "            'data': [\n",
    "                {'x': data['brand'].value_counts().nlargest(10).index,\n",
    "                 'y': data['brand'].value_counts().nlargest(10).values,\n",
    "                 'type': 'bar'}\n",
    "            ],\n",
    "            'layout': {\n",
    "                'title': 'Top 10 Brands by Product Count',\n",
    "                'xaxis': {'title': 'Brand'},\n",
    "                'yaxis': {'title': 'Count'}\n",
    "            }\n",
    "        }\n",
    "    ),\n",
    "\n",
    "    # Visualization 4: Rating vs. Price (Interactive Scatter Plot using Plotly)\n",
    "    dcc.Graph(\n",
    "        id='rating-vs-price-scatter',\n",
    "        figure=px.scatter(data, x='product_rating', y='product_price', color='brand', hover_name='product_name',\n",
    "                          size='category_count', log_y=True,\n",
    "                          title='Rating vs. Price by Brand')\n",
    "    )\n",
    "])\n",
    "\n",
    "if __name__ == '__main__':\n",
    "    app.run_server(debug=True)\n"
   ]
  },
  {
   "cell_type": "code",
   "execution_count": null,
   "id": "685df600-fefe-49e9-bb58-aab2da25f11e",
   "metadata": {},
   "outputs": [],
   "source": []
  }
 ],
 "metadata": {
  "kernelspec": {
   "display_name": "Python 3 (ipykernel)",
   "language": "python",
   "name": "python3"
  },
  "language_info": {
   "codemirror_mode": {
    "name": "ipython",
    "version": 3
   },
   "file_extension": ".py",
   "mimetype": "text/x-python",
   "name": "python",
   "nbconvert_exporter": "python",
   "pygments_lexer": "ipython3",
   "version": "3.11.3"
  }
 },
 "nbformat": 4,
 "nbformat_minor": 5
}
