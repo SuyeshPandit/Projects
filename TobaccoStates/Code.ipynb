{
 "cells": [
  {
   "cell_type": "code",
   "execution_count": 46,
   "id": "3936de56-f0a7-44e5-b2b3-b2fca50293d7",
   "metadata": {
    "tags": []
   },
   "outputs": [
    {
     "name": "stdout",
     "output_type": "stream",
     "text": [
      "                                    State   Men  Women\n",
      "0                          Andhra Pradesh  22.6    3.8\n",
      "1             Andaman and Nicobar Islands  58.7   31.3\n",
      "2                                   Assam  51.8   22.1\n",
      "3                                   Bihar  48.8    5.0\n",
      "4   Dadra and Nagar Haveli, Daman and Diu  38.6    2.9\n",
      "5                                     Goa  18.2    2.6\n",
      "6                                 Gujarat  41.1    8.7\n",
      "7                        Himachal Pradesh  32.3    1.7\n",
      "8                       Jammu and Kashmir  38.3    3.6\n",
      "9                               Karnataka  27.1    8.5\n",
      "10                                 Kerala  16.9    2.2\n",
      "11                                 Ladakh  35.7    3.2\n",
      "12                            Lakshadweep  28.5   17.5\n",
      "13                            Maharashtra  33.8   10.9\n",
      "14                                Manipur  58.1   43.1\n",
      "15                              Meghalaya  57.7   28.2\n",
      "16                                Mizoram  72.9   61.6\n",
      "17                               Nagaland  48.4   13.7\n",
      "18                                 Sikkim  41.3   11.7\n",
      "19                              Telangana  22.3    5.6\n",
      "20                                Tripura  56.9   50.4\n",
      "21                            West Bengal  48.1   10.8\n"
     ]
    }
   ],
   "source": [
    "import pandas as pd\n",
    "import plotly.graph_objs as go\n",
    "import dash\n",
    "import dash_core_components as dcc\n",
    "import dash_html_components as html\n",
    "\n",
    "# Load data from the Excel file\n",
    "df = pd.read_excel(\"data.xlsx\", engine=\"openpyxl\")\n",
    "\n",
    "# Clean column names (remove leading/trailing spaces)\n",
    "df.columns = df.columns.str.strip()\n",
    "print(df)"
   ]
  },
  {
   "cell_type": "code",
   "execution_count": 47,
   "id": "10b08fa8-1a9b-4196-9aa7-660b04c0e538",
   "metadata": {
    "tags": []
   },
   "outputs": [
    {
     "data": {
      "text/html": [
       "\n",
       "        <iframe\n",
       "            width=\"100%\"\n",
       "            height=\"650\"\n",
       "            src=\"http://127.0.0.1:8050/\"\n",
       "            frameborder=\"0\"\n",
       "            allowfullscreen\n",
       "            \n",
       "        ></iframe>\n",
       "        "
      ],
      "text/plain": [
       "<IPython.lib.display.IFrame at 0x15a71afd0>"
      ]
     },
     "metadata": {},
     "output_type": "display_data"
    }
   ],
   "source": [
    "# Create bar chart for state-wise comparison of male and female consumers\n",
    "fig = go.Figure()\n",
    "fig.add_trace(go.Bar(x=df['State'], y=df['Men'], name='Male', marker_color='blue'))\n",
    "fig.add_trace(go.Bar(x=df['State'], y=df['Women'], name='Female', marker_color='pink'))\n",
    "\n",
    "fig.update_layout(title='Tobacco Consumption in India: State-wise Comparison for Male and Female Consumers',\n",
    "                  xaxis_title='State', yaxis_title='Average Tobacco Consumption', barmode='group')\n",
    "\n",
    "# Initialize the Dash app\n",
    "app = dash.Dash(__name__)\n",
    "\n",
    "# Layout of the dashboard\n",
    "app.layout = html.Div(children=[\n",
    "    html.H1('Tobacco Consumption in India: State-wise Comparison for Male and Female Consumers'),\n",
    "    dcc.Graph(figure=fig)\n",
    "])\n",
    "\n",
    "# Run the app\n",
    "if __name__ == '__main__':\n",
    "    app.run_server(debug=True)"
   ]
  },
  {
   "cell_type": "code",
   "execution_count": null,
   "id": "34a7d57e-706a-41ac-9959-12762d344d3e",
   "metadata": {},
   "outputs": [],
   "source": []
  }
 ],
 "metadata": {
  "kernelspec": {
   "display_name": "Python 3 (ipykernel)",
   "language": "python",
   "name": "python3"
  },
  "language_info": {
   "codemirror_mode": {
    "name": "ipython",
    "version": 3
   },
   "file_extension": ".py",
   "mimetype": "text/x-python",
   "name": "python",
   "nbconvert_exporter": "python",
   "pygments_lexer": "ipython3",
   "version": "3.11.3"
  }
 },
 "nbformat": 4,
 "nbformat_minor": 5
}
